{
 "cells": [
  {
   "cell_type": "code",
   "execution_count": null,
   "metadata": {},
   "outputs": [],
   "source": [
    "#Primeiro o básico\n",
    "\n",
    "print (\"Hello Word\")"
   ]
  },
  {
   "cell_type": "code",
   "execution_count": null,
   "metadata": {},
   "outputs": [],
   "source": [
    "#easter egg - Romantic Python\n",
    "\n",
    "import this"
   ]
  },
  {
   "cell_type": "code",
   "execution_count": null,
   "metadata": {},
   "outputs": [],
   "source": [
    "#Atribuicao a variavel\n",
    "a = 1"
   ]
  },
  {
   "cell_type": "code",
   "execution_count": null,
   "metadata": {},
   "outputs": [],
   "source": [
    "#Apresentando o conteudo da variavel\n",
    "print (a)"
   ]
  },
  {
   "cell_type": "code",
   "execution_count": null,
   "metadata": {},
   "outputs": [],
   "source": [
    "#Verificando o tipo do dado\n",
    "type(a)"
   ]
  },
  {
   "cell_type": "code",
   "execution_count": null,
   "metadata": {},
   "outputs": [],
   "source": [
    "#String\n",
    "\n",
    "a = 'xpto'\n",
    "print (a)\n",
    "type(a)\n"
   ]
  },
  {
   "cell_type": "code",
   "execution_count": null,
   "metadata": {},
   "outputs": [],
   "source": [
    "#Float\n",
    "\n",
    "a = 10.0\n",
    "print (a)\n",
    "type(a)"
   ]
  },
  {
   "cell_type": "code",
   "execution_count": null,
   "metadata": {},
   "outputs": [],
   "source": [
    "#Boolean\n",
    "\n",
    "a = True\n",
    "print (a)\n",
    "type (a)"
   ]
  },
  {
   "cell_type": "code",
   "execution_count": null,
   "metadata": {},
   "outputs": [],
   "source": [
    "#Soma\n",
    "a = 1\n",
    "b = 2\n",
    "print (a + b)"
   ]
  },
  {
   "cell_type": "code",
   "execution_count": null,
   "metadata": {},
   "outputs": [],
   "source": [
    "#Exponenciacao\n",
    "a = 5\n",
    "print (a**2)"
   ]
  },
  {
   "cell_type": "code",
   "execution_count": null,
   "metadata": {},
   "outputs": [],
   "source": [
    "#Teste logico\n",
    "a = 1\n",
    "b = 2\n",
    "a == b\n",
    "print (a > b)"
   ]
  },
  {
   "cell_type": "code",
   "execution_count": null,
   "metadata": {},
   "outputs": [],
   "source": [
    "#Teste logico\n",
    "print (a < b)"
   ]
  },
  {
   "cell_type": "code",
   "execution_count": null,
   "metadata": {},
   "outputs": [],
   "source": [
    "#Input\n",
    "\n",
    "name = input(\"Qual a sua graça?\\n\")\n",
    "print (\"Oi %s. Obrigado!\", name)"
   ]
  },
  {
   "cell_type": "code",
   "execution_count": null,
   "metadata": {},
   "outputs": [],
   "source": [
    "#jogo dos \"7 erros\"\n",
    "name = input(\"Qual a sua graça?\")\n",
    "print('Oi %s. Obrigado!' % name)"
   ]
  },
  {
   "cell_type": "code",
   "execution_count": null,
   "metadata": {},
   "outputs": [],
   "source": [
    "#lista\n",
    "frutas = ['Banana', 'Maça', 'Morango', 'Cereja', 'Laranja', 'Caqui', 'Kiwi']\n",
    "print (frutas)\n",
    "type(frutas)"
   ]
  },
  {
   "cell_type": "code",
   "execution_count": null,
   "metadata": {},
   "outputs": [],
   "source": [
    "#adicionando ao final da lista\n",
    "\n",
    "frutas.append('Cocada')\n",
    "frutas"
   ]
  },
  {
   "cell_type": "code",
   "execution_count": null,
   "metadata": {},
   "outputs": [],
   "source": [
    "#retirando entrada da lista\n",
    "\n",
    "frutas.remove('Cocada')\n",
    "frutas"
   ]
  },
  {
   "cell_type": "code",
   "execution_count": null,
   "metadata": {},
   "outputs": [],
   "source": [
    "#consumindo ultima entrada lista\n",
    "frutas.pop()"
   ]
  },
  {
   "cell_type": "code",
   "execution_count": null,
   "metadata": {},
   "outputs": [],
   "source": [
    "frutas.append('Banana')"
   ]
  },
  {
   "cell_type": "code",
   "execution_count": null,
   "metadata": {},
   "outputs": [],
   "source": [
    "#contar itens da lista\n",
    "frutas.count('Banana')"
   ]
  },
  {
   "cell_type": "code",
   "execution_count": null,
   "metadata": {},
   "outputs": [],
   "source": [
    "#A lista comeca com inidice...\n",
    "\n",
    "print (frutas)\n",
    "frutas[1]"
   ]
  },
  {
   "cell_type": "code",
   "execution_count": null,
   "metadata": {},
   "outputs": [],
   "source": [
    "frutas[0]"
   ]
  },
  {
   "cell_type": "code",
   "execution_count": null,
   "metadata": {},
   "outputs": [],
   "source": [
    "#tupla\n",
    "frutas = ('Banana', 'Maça', 'Morango', 'Cereja', 'Laranja', 1, 2)\n",
    "print (frutas)\n",
    "type(frutas)"
   ]
  },
  {
   "cell_type": "code",
   "execution_count": null,
   "metadata": {},
   "outputs": [],
   "source": [
    "dictionary = {\n",
    "    'morango': 5.99,\n",
    "    'banana': 1.97}\n",
    "\n",
    "type(dictionary)"
   ]
  },
  {
   "cell_type": "code",
   "execution_count": null,
   "metadata": {},
   "outputs": [],
   "source": [
    "print (dictionary['morango'])"
   ]
  },
  {
   "cell_type": "code",
   "execution_count": null,
   "metadata": {},
   "outputs": [],
   "source": [
    "#bora fazer um fatorial\n",
    "#Lembrando > 5! = 5.4.3.2.1 \n",
    "#Importante > Nao existe fatorial de numero negativo\n",
    "\n",
    "def main():\n",
    "    n = int(input(\"Digite o valor de n: \"))\n",
    "    fat = 1\n",
    "    i = 2\n",
    "    \n",
    "    if n < 0:\n",
    "        print ('Não é possível calcular fatorial de número negativo')\n",
    "        \n",
    "    while i <= n:\n",
    "        fat = fat*i\n",
    "        i = i + 1\n",
    "\n",
    "    print(\"O valor de %d! eh =\" %n, fat)\n",
    "\n",
    "#-----\n",
    "main()"
   ]
  },
  {
   "cell_type": "code",
   "execution_count": null,
   "metadata": {},
   "outputs": [],
   "source": [
    "#fatorial nivel Yoda - Recursivo\n",
    "\n",
    "def main(n): \n",
    "    if n == 0:\n",
    "        return 1\n",
    "    elif n < 0:\n",
    "        return -1\n",
    "    else:\n",
    "        return n * main(n-1)\n",
    "\n",
    "nr = int(input('Digito o valor de n: '))\n",
    "\n",
    "if nr > 0:\n",
    "    print(\"O valor de %d! eh =\" %nr, main(nr))\n",
    "else:\n",
    "    print('O d% eh um valor negativo, nao eh possivel gerar fatorial' %nr)"
   ]
  },
  {
   "cell_type": "code",
   "execution_count": null,
   "metadata": {},
   "outputs": [],
   "source": [
    "#Loop - Laco - Estrutura pra sentar o sistema operacional\n",
    "\n",
    "lista = ['Athletico', 'Coritiba', 'Paraná']\n",
    "\n",
    "for time in lista:\n",
    "    print (time)"
   ]
  },
  {
   "cell_type": "code",
   "execution_count": null,
   "metadata": {},
   "outputs": [],
   "source": [
    "for i in range(10):\n",
    "    print ('Conta pra mim...', i)"
   ]
  },
  {
   "cell_type": "code",
   "execution_count": null,
   "metadata": {},
   "outputs": [],
   "source": [
    "#funcoes e laco condicional white\n",
    "\n",
    "#IMPORTANTE mantenha identacao\n",
    "\n",
    "def fib(n): #funcao para calculo da sequencia fibonacci (0,1,1,2,3,5,8,13,21 etc.)\n",
    "  a, b = 0, 1\n",
    "  while a < n:\n",
    "    print(a, end=' ')\n",
    "    a, b = b, a+b\n",
    "  print()\n",
    "\n",
    "fib(1000)"
   ]
  },
  {
   "cell_type": "code",
   "execution_count": null,
   "metadata": {},
   "outputs": [],
   "source": [
    "fib(3000)"
   ]
  },
  {
   "cell_type": "code",
   "execution_count": null,
   "metadata": {},
   "outputs": [],
   "source": [
    "#Python 2, error\n",
    "\n",
    "import random\n",
    "\n",
    "guesses_made = 0\n",
    "\n",
    "name = raw_input('Hello! What is your name?\\n')\n",
    "\n",
    "number = random.randint(1, 20)\n",
    "print 'Well, {0}, I am thinking of a number between 1 and 20.'.format(name)\n",
    "\n",
    "while guesses_made < 6:\n",
    "\n",
    "    guess = int(raw_input('Take a guess: '))\n",
    "\n",
    "    guesses_made += 1\n",
    "\n",
    "    if guess < number:\n",
    "        print 'Your guess is too low.'\n",
    "\n",
    "    if guess > number:\n",
    "        print 'Your guess is too high.'\n",
    "\n",
    "    if guess == number:\n",
    "        break\n",
    "\n",
    "if guess == number:\n",
    "    print 'Good job, {0}! You guessed my number in {1} guesses!'.format(name, guesses_made)\n",
    "else:\n",
    "    print 'Nope. The number I was thinking of was {0}'.format(number)"
   ]
  },
  {
   "cell_type": "code",
   "execution_count": null,
   "metadata": {},
   "outputs": [],
   "source": [
    "#Codigo convertido de Python2 para Python3\n",
    "\n",
    "import random #importar pacote\n",
    "\n",
    "guesses_made = 0\n",
    "\n",
    "name = input('Oi! Qual o seu nome?\\n')\n",
    "\n",
    "number = random.randint(1, 20) #funcao do pacote importado\n",
    "print('Eu sou o Python, prazer! {0}, eu penso sabia? E agora mesmo estou pensando em um número entre 1 e 20.'.format(name))\n",
    "\n",
    "while guesses_made < 6:\n",
    "\n",
    "    guess = int(input('Qual o seu palpite? '))\n",
    "\n",
    "    guesses_made += 1\n",
    "\n",
    "    if guess < number:\n",
    "        print('Tá frio, o seu palpite está abaixo')\n",
    "\n",
    "    if guess > number:\n",
    "        print('Nana nina não, seu palpite está muito alto')\n",
    "\n",
    "    if guess == number:\n",
    "        break\n",
    "\n",
    "if guess == number:\n",
    "    print('Ahhh eee Mãe Diná! Eu realmente estava pensando no número {1}! Me passa os número da Mega?'.format(name, guesses_made))\n",
    "else:\n",
    "    print('Shiii, não tivemos sintonia de pensamentos. O número que pensei era {0}'.format(number))\n"
   ]
  },
  {
   "cell_type": "code",
   "execution_count": null,
   "metadata": {},
   "outputs": [],
   "source": [
    "#Vamos falar de pacotes importantes? Numpy (Matrizes) / Pandas (Dataframe/Arquivos)\n",
    "\n"
   ]
  }
 ],
 "metadata": {
  "kernelspec": {
   "display_name": "Python 3",
   "language": "python",
   "name": "python3"
  },
  "language_info": {
   "codemirror_mode": {
    "name": "ipython",
    "version": 3
   },
   "file_extension": ".py",
   "mimetype": "text/x-python",
   "name": "python",
   "nbconvert_exporter": "python",
   "pygments_lexer": "ipython3",
   "version": "3.7.1"
  }
 },
 "nbformat": 4,
 "nbformat_minor": 2
}
